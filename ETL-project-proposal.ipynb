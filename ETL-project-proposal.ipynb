{
 "cells": [
  {
   "cell_type": "markdown",
   "metadata": {},
   "source": [
    "### ETL Project Proposal - submitted 11/19/2020 via Slack DM to Dan, Riham and Mo\n",
    "\n",
    "### Hi Dan/Mo/Riham -\n",
    "\n",
    "### Jeni, Phil and myself [Diane] have decided to blend multiple datasets of museum art collections into a single database.\n",
    "\n",
    "#### 1. Dataset - Carnegie Museum of Art, artwork collections, https://www.kaggle.com/mfrancis23/carnegie-museum-of-art\n",
    "#### 2. Dataset - Museum of Modern Art, artwork collections, https://www.kaggle.com/mfrancis23/museum-of-modern-art-collection\n",
    "#### 3. Dataset - The Tate, artwork collections, https://www.kaggle.com/rtatman/the-tate-collection"
   ]
  },
  {
   "cell_type": "code",
   "execution_count": null,
   "metadata": {},
   "outputs": [],
   "source": []
  }
 ],
 "metadata": {
  "kernelspec": {
   "display_name": "Python [conda env:root] *",
   "language": "python",
   "name": "conda-root-py"
  },
  "language_info": {
   "codemirror_mode": {
    "name": "ipython",
    "version": 3
   },
   "file_extension": ".py",
   "mimetype": "text/x-python",
   "name": "python",
   "nbconvert_exporter": "python",
   "pygments_lexer": "ipython3",
   "version": "3.8.3"
  }
 },
 "nbformat": 4,
 "nbformat_minor": 4
}
