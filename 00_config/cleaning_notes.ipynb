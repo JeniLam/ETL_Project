{
 "cells": [
  {
   "cell_type": "code",
   "execution_count": null,
   "metadata": {},
   "outputs": [],
   "source": [
    "# Import dependencies\n",
    "import pandas as pd\n",
    "import numpy as np"
   ]
  },
  {
   "cell_type": "code",
   "execution_count": null,
   "metadata": {},
   "outputs": [],
   "source": [
    "# Store filepath in variable\n",
    "file_data = \"../00_input/the-file-collection.csv\""
   ]
  },
  {
   "cell_type": "code",
   "execution_count": null,
   "metadata": {},
   "outputs": [],
   "source": [
    "# Read data file into pandas\n",
    "file_df = pd.read_csv(file_data, sep=';')\n",
    "file_df.head()"
   ]
  },
  {
   "cell_type": "code",
   "execution_count": null,
   "metadata": {},
   "outputs": [],
   "source": [
    "# List column headers\n",
    "list(file_df.columns)"
   ]
  },
  {
   "cell_type": "code",
   "execution_count": null,
   "metadata": {},
   "outputs": [],
   "source": [
    "# Create a new column with just the first part before comma\n",
    "file_artists_df['last_name'] = file_artists_df['artist'].str.split(', ').str[0]\n",
    "file_artists_df.head()"
   ]
  },
  {
   "cell_type": "code",
   "execution_count": null,
   "metadata": {},
   "outputs": [],
   "source": [
    "# Create a new column with just the sescond part after comma\n",
    "file_artists_df['first_name'] = file_artists_df['artist'].str.split(', ').str[1]\n",
    "file_artists_df.head()"
   ]
  },
  {
   "cell_type": "code",
   "execution_count": null,
   "metadata": {},
   "outputs": [],
   "source": [
    "# CONCATENATE\n",
    "file_artists_df['artist_name'] = file_artists_df['first_name'] + str(\" \") + file_artists_df['last_name']\n",
    "file_artists_df"
   ]
  },
  {
   "cell_type": "code",
   "execution_count": null,
   "metadata": {},
   "outputs": [],
   "source": [
    "# List column headers\n",
    "list(file_artists_df.columns)"
   ]
  },
  {
   "cell_type": "code",
   "execution_count": null,
   "metadata": {},
   "outputs": [],
   "source": [
    "# Create copy of original df, keep only specific columns using '.filter' which will create a copy by default\n",
    "# https://stackoverflow.com/questions/34682828/extracting-specific-selected-columns-to-new-dataframe-as-a-copy\n",
    "file_artists_df = file_artists_df.filter(['artistRole','artist_name'])\n",
    "file_artists_df.head()"
   ]
  },
  {
   "cell_type": "code",
   "execution_count": null,
   "metadata": {},
   "outputs": [],
   "source": [
    "# Rename columns in file_artists_df to align with list\n",
    "file_artists_df.columns = [\n",
    "    'artist_role',\n",
    "    'artist_name'\n",
    "]\n",
    "file_artists_df.head()"
   ]
  },
  {
   "cell_type": "code",
   "execution_count": null,
   "metadata": {},
   "outputs": [],
   "source": [
    "# Add column headers with empty values\n",
    "file_artists_df['artist_id']= ' '\n",
    "file_artists_df['nationality']= ' '\n",
    "file_artists_df['gender']= ' '\n",
    "file_artists_df['birth_year']= ' '\n",
    "file_artists_df['birth_place']= ' '\n",
    "file_artists_df['death_year']= ' '\n",
    "file_artists_df['death_place']= ' '\n",
    "file_artists_df['wiki']= ' '\n",
    "file_artists_df['ulan']= ' '"
   ]
  },
  {
   "cell_type": "code",
   "execution_count": null,
   "metadata": {},
   "outputs": [],
   "source": [
    "# Replace empty strings in artist_name with NaN\n",
    "file_artists_df['artist_name'].replace('', np.nan, inplace=True)"
   ]
  },
  {
   "cell_type": "code",
   "execution_count": null,
   "metadata": {},
   "outputs": [],
   "source": [
    "# Drop rows with NaN in artist_name\n",
    "file_artists_df.dropna(subset=['artist_name'], inplace=True)"
   ]
  },
  {
   "cell_type": "code",
   "execution_count": null,
   "metadata": {},
   "outputs": [],
   "source": [
    "# Drop duplicate in artist_name\n",
    "file_artists_df.drop_duplicates(subset ='artist_name',\n",
    "                               keep=False, inplace=True)\n",
    "file_artists_df"
   ]
  },
  {
   "cell_type": "code",
   "execution_count": null,
   "metadata": {},
   "outputs": [],
   "source": [
    "# Reorder file columns\n",
    "file_artists_df = file_artists_df[[\n",
    "    'artist_name',\n",
    "    'artist_role',\n",
    "    'artist_id',\n",
    "    'nationality',\n",
    "    'gender',\n",
    "    'birth_year',\n",
    "    'birth_place',\n",
    "    'death_year',\n",
    "    'death_place',\n",
    "    'wiki',\n",
    "    'ulan']]\n",
    "list(file_artists_df.columns)"
   ]
  },
  {
   "cell_type": "code",
   "execution_count": null,
   "metadata": {},
   "outputs": [],
   "source": [
    "# Sort by artist_name\n",
    "file_artists_df = file_artists_df.sort_values('artist_name')"
   ]
  },
  {
   "cell_type": "code",
   "execution_count": null,
   "metadata": {},
   "outputs": [],
   "source": [
    "file_artists_df = file_artists_df.reset_index(drop=True)\n",
    "file_artists_df"
   ]
  },
  {
   "cell_type": "code",
   "execution_count": null,
   "metadata": {},
   "outputs": [],
   "source": [
    "# Replace 'Nan' with empty string\n",
    "file_artists_df = file_artists_df.replace(np.nan, '', regex=True)\n",
    "file_artists_df"
   ]
  },
  {
   "cell_type": "code",
   "execution_count": null,
   "metadata": {},
   "outputs": [],
   "source": [
    "file_artists_df.to_csv(r'..\\02_transform_file\\file_artists.csv', index=False)"
   ]
  }
 ],
 "metadata": {
  "kernelspec": {
   "display_name": "Python [conda env:root] *",
   "language": "python",
   "name": "conda-root-py"
  },
  "language_info": {
   "codemirror_mode": {
    "name": "ipython",
    "version": 3
   },
   "file_extension": ".py",
   "mimetype": "text/x-python",
   "name": "python",
   "nbconvert_exporter": "python",
   "pygments_lexer": "ipython3",
   "version": "3.8.3"
  }
 },
 "nbformat": 4,
 "nbformat_minor": 4
}
